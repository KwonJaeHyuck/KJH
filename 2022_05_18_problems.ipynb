{
  "nbformat": 4,
  "nbformat_minor": 0,
  "metadata": {
    "colab": {
      "name": "Untitled0.ipynb",
      "provenance": [],
      "collapsed_sections": [],
      "authorship_tag": "ABX9TyPubQn6w++z5iPmkFYpJIaV",
      "include_colab_link": true
    },
    "kernelspec": {
      "name": "python3",
      "display_name": "Python 3"
    },
    "language_info": {
      "name": "python"
    }
  },
  "cells": [
    {
      "cell_type": "markdown",
      "metadata": {
        "id": "view-in-github",
        "colab_type": "text"
      },
      "source": [
        "<a href=\"https://colab.research.google.com/github/KwonJaeHyuck/KJH/blob/main/2022_05_18_problems.ipynb\" target=\"_parent\"><img src=\"https://colab.research.google.com/assets/colab-badge.svg\" alt=\"Open In Colab\"/></a>"
      ]
    },
    {
      "cell_type": "code",
      "execution_count": null,
      "metadata": {
        "colab": {
          "base_uri": "https://localhost:8080/"
        },
        "id": "u5WaAwXQVb6v",
        "outputId": "a9ab124e-b4a1-43b9-bc25-8fc0854a9749"
      },
      "outputs": [
        {
          "output_type": "stream",
          "name": "stdout",
          "text": [
            "5 8 3\n",
            "2 4 5 4 6\n",
            "46\n"
          ]
        }
      ],
      "source": [
        "#큰 수의 법칙 P.92\n",
        "n, m, k = map(int, input().split())\n",
        "data = list(map(int, input().split()))\n",
        "data.sort(reverse=True)\n",
        "first = data[0]\n",
        "second = data[1]\n",
        "result = 0\n",
        "n1 = (m // k) * k\n",
        "result += first * n1\n",
        "result += second * (m - n1)\n",
        "print(result)"
      ]
    },
    {
      "cell_type": "code",
      "source": [
        "#숫자 카드 게임 P.96\n",
        "import random\n",
        " \n",
        "n, m = map(int, input().split())\n",
        "data = [list(map(int, input().split())) for _ in range(n)]\n",
        "min_value = max(list((map(min, data))))\n",
        "print(min_value)\n",
        "\n",
        "\"\"\"책의 코드 min()함수 사용\n",
        "n, m = map(int(input().split()))\n",
        "\n",
        "result = 0\n",
        "for i in range(n):\n",
        "    data = list(map(int, input().split()))\n",
        "    min_value = min(data)\n",
        "    result = max(result, min_value)\n",
        "    \n",
        "print(result)\n",
        "\"\"\"\n",
        "\n",
        "\"\"\"2중 반복문 사용\n",
        "n, m = map(int(input().split()))\n",
        "\n",
        "result = 0\n",
        "for i in range(n):\n",
        "    data = list(map(int, input().split()))\n",
        "    min_value = 10001\n",
        "    for a in data:\n",
        "        min_value = min(min_value, a)\n",
        "    result = max(result, min_value)\n",
        "\n",
        "print(result)\n",
        "\"\"\""
      ],
      "metadata": {
        "colab": {
          "base_uri": "https://localhost:8080/"
        },
        "id": "8nqptOZSWW8c",
        "outputId": "307944d1-261b-4c0f-f8c3-ecdfdaaf5258"
      },
      "execution_count": null,
      "outputs": [
        {
          "output_type": "stream",
          "name": "stdout",
          "text": [
            "2 4 \n",
            "7 3 1 8\n",
            "3 3 3 4\n",
            "3\n"
          ]
        }
      ]
    },
    {
      "cell_type": "code",
      "source": [
        "#1이 될 때까지 P.99\n",
        "\n",
        "#N, K를 공백을 기준으로 입력받기\n",
        "n, k = map(int, input().split())\n",
        "\n",
        "count = 0\n",
        "#while문의 조건을 n이 1이 될 때까지로 설정\n",
        "while n > 1: \n",
        "    if n % k == 0:\n",
        "        n //= k\n",
        "    else:\n",
        "        n -= 1 \n",
        "    count += 1\n",
        "print(count)\n",
        "\n",
        "\"\"\"책 코드 \n",
        "n, k = map(int, input().split())\n",
        "result = 0\n",
        "\n",
        "# N이 K이상이라면 K로 계속 나누기.\n",
        "while n >= k:\n",
        "    while n % k != 0:\n",
        "        n -= 1\n",
        "        result += 1\n",
        "    n //= k\n",
        "    result += 1\n",
        "\n",
        "while n > 1:\n",
        "    n -= 1\n",
        "    result += 1\n",
        "\n",
        "print(result)\n",
        "\"\"\""
      ],
      "metadata": {
        "colab": {
          "base_uri": "https://localhost:8080/",
          "height": 110
        },
        "id": "B_MnVykRZ_Yn",
        "outputId": "5c95a517-f56a-41d8-89a1-6b7f1c7c7140"
      },
      "execution_count": null,
      "outputs": [
        {
          "output_type": "stream",
          "name": "stdout",
          "text": [
            "44 11\n",
            "4\n"
          ]
        },
        {
          "output_type": "execute_result",
          "data": {
            "text/plain": [
              "'책 코드 \\nn, k = map(int, input().split())\\nresult = 0\\n\\n# N이 K이상이라면 K로 계속 나누기.\\nwhile n >= k:\\n    while n % k != 0:\\n        n -= 1\\n        result += 1\\n    n //= k\\n    result += 1\\n\\nwhile n > 1:\\n    n -= 1\\n    result += 1\\n\\nprint(result)\\n'"
            ],
            "application/vnd.google.colaboratory.intrinsic+json": {
              "type": "string"
            }
          },
          "metadata": {},
          "execution_count": 28
        }
      ]
    },
    {
      "cell_type": "code",
      "source": [
        "#상하좌우 P.110\n",
        "\n",
        "# N x N 크기의 정사각형 지도를 만들기 위해 N 입력받기\n",
        "n = int(input())\n",
        "# 움직일 계획을 입력받음\n",
        "plan = input().split()\n",
        "\n",
        "# x, y 좌표를 설정\n",
        "x, y = 1, 1\n",
        "# 각각의 움직임들마다 좌표의 변화를 리스트로 표현\n",
        "dx = [0, 0, -1, 1]\n",
        "dy = [-1, 1, 0, 0]\n",
        "# 움직임의 종류\n",
        "move_types = ['L', 'R', 'U', 'D']\n",
        "\n",
        "# for를 이용해서 움직임을 확인하고 좌표를 이동시킴\n",
        "for move in plan:\n",
        "    for i in range(len(move_types)):\n",
        "        if move == move_types[i]:\n",
        "            nx = x + dx[i]\n",
        "            ny = y + dy[i]\n",
        "    # 움직인 후에 설정한 좌표계 밖으로 벗어났다면 continue를 통해 초기화\n",
        "    if nx < 1 or nx > n or ny < 1 or ny > n:\n",
        "        continue\n",
        "    # 조건에 부합하다면, x, y에 nx, ny를 대입\n",
        "    x, y = nx, ny\n",
        "\n",
        "print(x, y)\n",
        "\n",
        "\n",
        "    \n",
        "\n",
        "\n"
      ],
      "metadata": {
        "colab": {
          "base_uri": "https://localhost:8080/"
        },
        "id": "8VuDuDWQhx5X",
        "outputId": "a0d602a4-15ca-42ff-a63c-2d906e6e3e6f"
      },
      "execution_count": 37,
      "outputs": [
        {
          "output_type": "stream",
          "name": "stdout",
          "text": [
            "5\n",
            "R R R U D D \n",
            "3 4\n"
          ]
        }
      ]
    },
    {
      "cell_type": "code",
      "source": [
        ""
      ],
      "metadata": {
        "id": "rqc9gO0uDhuj"
      },
      "execution_count": null,
      "outputs": []
    }
  ]
}